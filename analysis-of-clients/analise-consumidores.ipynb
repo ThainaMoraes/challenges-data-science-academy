{
 "cells": [
  {
   "cell_type": "markdown",
   "id": "e6895782",
   "metadata": {},
   "source": [
    "# Missão: Analisar o Comportamento de Compra de Consumidores."
   ]
  },
  {
   "cell_type": "markdown",
   "id": "eedc2a77",
   "metadata": {},
   "source": [
    "Você recebeu a tarefa de analisar os dados de compras de um web site! Os dados estão no formato JSON e disponíveis junto com este notebook.\n",
    "\n",
    "No site, cada usuário efetua login usando sua conta pessoal e pode adquirir produtos à medida que navega pela lista de produtos oferecidos. Cada produto possui um valor de venda. Dados de idade e sexo de cada usuário foram coletados e estão fornecidos no arquivo JSON.\n",
    "\n",
    "Seu trabalho é entregar uma análise de comportamento de compra dos consumidores. Esse é um tipo de atividade comum realizado por Cientistas de Dados e o resultado deste trabalho pode ser usado, por exemplo, para alimentar um modelo de Machine Learning e fazer previsões sobre comportamentos futuros.\n",
    "\n",
    "Mas nesta missão você vai analisar o comportamento de compra dos consumidores usando o pacote Pandas da linguagem Python e seu relatório final deve incluir cada um dos seguintes itens:\n",
    "\n",
    "** Contagem de Compradores **\n",
    "\n",
    "* Número total de compradores\n",
    "\n",
    "\n",
    "** Análise Geral de Compras **\n",
    "\n",
    "* Número de itens exclusivos\n",
    "* Preço médio de compra\n",
    "* Número total de compras\n",
    "* Rendimento total\n",
    "\n",
    "\n",
    "** Informações Demográficas Por Gênero **\n",
    "\n",
    "* Porcentagem e contagem de compradores masculinos\n",
    "* Porcentagem e contagem de compradores do sexo feminino\n",
    "* Porcentagem e contagem de outros / não divulgados\n",
    "\n",
    "\n",
    "** Análise de Compras Por Gênero **\n",
    "\n",
    "* Número de compras\n",
    "* Preço médio de compra\n",
    "* Valor Total de Compra\n",
    "* Compras for faixa etária\n",
    "\n",
    "\n",
    "** Identifique os 5 principais compradores pelo valor total de compra e, em seguida, liste (em uma tabela): **\n",
    "\n",
    "* Login\n",
    "* Número de compras\n",
    "* Preço médio de compra\n",
    "* Valor Total de Compra\n",
    "* Itens mais populares\n",
    "\n",
    "\n",
    "** Identifique os 5 itens mais populares por contagem de compras e, em seguida, liste (em uma tabela): **\n",
    "\n",
    "* ID do item\n",
    "* Nome do item\n",
    "* Número de compras\n",
    "* Preço do item\n",
    "* Valor Total de Compra\n",
    "* Itens mais lucrativos\n",
    "\n",
    "\n",
    "** Identifique os 5 itens mais lucrativos pelo valor total de compra e, em seguida, liste (em uma tabela): **\n",
    "\n",
    "* ID do item\n",
    "* Nome do item\n",
    "* Número de compras\n",
    "* Preço do item\n",
    "* Valor Total de Compra\n",
    "\n",
    "\n",
    "** Como considerações finais: **\n",
    "\n",
    "* Seu script deve funcionar para o conjunto de dados fornecido.\n",
    "* Você deve usar a Biblioteca Pandas e o Jupyter Notebook.\n"
   ]
  },
  {
   "cell_type": "code",
   "execution_count": 1,
   "id": "cd8750dd",
   "metadata": {},
   "outputs": [],
   "source": [
    "# Imports\n",
    "import pandas as pd\n",
    "import numpy as np\n",
    "import seaborn as sns\n",
    "import matplotlib.pyplot as plt"
   ]
  },
  {
   "cell_type": "code",
   "execution_count": 2,
   "id": "7349338a",
   "metadata": {},
   "outputs": [
    {
     "data": {
      "text/html": [
       "<div>\n",
       "<style scoped>\n",
       "    .dataframe tbody tr th:only-of-type {\n",
       "        vertical-align: middle;\n",
       "    }\n",
       "\n",
       "    .dataframe tbody tr th {\n",
       "        vertical-align: top;\n",
       "    }\n",
       "\n",
       "    .dataframe thead th {\n",
       "        text-align: right;\n",
       "    }\n",
       "</style>\n",
       "<table border=\"1\" class=\"dataframe\">\n",
       "  <thead>\n",
       "    <tr style=\"text-align: right;\">\n",
       "      <th></th>\n",
       "      <th>Login</th>\n",
       "      <th>Idade</th>\n",
       "      <th>Sexo</th>\n",
       "      <th>Item ID</th>\n",
       "      <th>Nome do Item</th>\n",
       "      <th>Valor</th>\n",
       "    </tr>\n",
       "  </thead>\n",
       "  <tbody>\n",
       "    <tr>\n",
       "      <th>0</th>\n",
       "      <td>Aelalis34</td>\n",
       "      <td>38</td>\n",
       "      <td>Masculino</td>\n",
       "      <td>165</td>\n",
       "      <td>Bone Crushing Silver Skewer</td>\n",
       "      <td>3.37</td>\n",
       "    </tr>\n",
       "    <tr>\n",
       "      <th>1</th>\n",
       "      <td>Eolo46</td>\n",
       "      <td>21</td>\n",
       "      <td>Masculino</td>\n",
       "      <td>119</td>\n",
       "      <td>Stormbringer, Dark Blade of Ending Misery</td>\n",
       "      <td>2.32</td>\n",
       "    </tr>\n",
       "    <tr>\n",
       "      <th>2</th>\n",
       "      <td>Assastnya25</td>\n",
       "      <td>34</td>\n",
       "      <td>Masculino</td>\n",
       "      <td>174</td>\n",
       "      <td>Primitive Blade</td>\n",
       "      <td>2.46</td>\n",
       "    </tr>\n",
       "    <tr>\n",
       "      <th>3</th>\n",
       "      <td>Pheusrical25</td>\n",
       "      <td>21</td>\n",
       "      <td>Masculino</td>\n",
       "      <td>92</td>\n",
       "      <td>Final Critic</td>\n",
       "      <td>1.36</td>\n",
       "    </tr>\n",
       "    <tr>\n",
       "      <th>4</th>\n",
       "      <td>Aela59</td>\n",
       "      <td>23</td>\n",
       "      <td>Masculino</td>\n",
       "      <td>63</td>\n",
       "      <td>Stormfury Mace</td>\n",
       "      <td>1.27</td>\n",
       "    </tr>\n",
       "  </tbody>\n",
       "</table>\n",
       "</div>"
      ],
      "text/plain": [
       "          Login  Idade       Sexo  Item ID  \\\n",
       "0     Aelalis34     38  Masculino      165   \n",
       "1        Eolo46     21  Masculino      119   \n",
       "2   Assastnya25     34  Masculino      174   \n",
       "3  Pheusrical25     21  Masculino       92   \n",
       "4        Aela59     23  Masculino       63   \n",
       "\n",
       "                                Nome do Item  Valor  \n",
       "0                Bone Crushing Silver Skewer   3.37  \n",
       "1  Stormbringer, Dark Blade of Ending Misery   2.32  \n",
       "2                            Primitive Blade   2.46  \n",
       "3                               Final Critic   1.36  \n",
       "4                             Stormfury Mace   1.27  "
      ]
     },
     "execution_count": 2,
     "metadata": {},
     "output_type": "execute_result"
    }
   ],
   "source": [
    "load_file = \"dados_compras.json\"\n",
    "purchase_file = pd.read_json(load_file, orient = \"records\")\n",
    "purchase_file.head()\n"
   ]
  },
  {
   "cell_type": "code",
   "execution_count": 3,
   "id": "d04e6f0a",
   "metadata": {},
   "outputs": [
    {
     "name": "stdout",
     "output_type": "stream",
     "text": [
      "Número total de consumidores: 573\n"
     ]
    },
    {
     "data": {
      "text/html": [
       "<div>\n",
       "<style scoped>\n",
       "    .dataframe tbody tr th:only-of-type {\n",
       "        vertical-align: middle;\n",
       "    }\n",
       "\n",
       "    .dataframe tbody tr th {\n",
       "        vertical-align: top;\n",
       "    }\n",
       "\n",
       "    .dataframe thead th {\n",
       "        text-align: right;\n",
       "    }\n",
       "</style>\n",
       "<table border=\"1\" class=\"dataframe\">\n",
       "  <thead>\n",
       "    <tr style=\"text-align: right;\">\n",
       "      <th></th>\n",
       "      <th>Total de Clientes</th>\n",
       "    </tr>\n",
       "  </thead>\n",
       "  <tbody>\n",
       "    <tr>\n",
       "      <th>0</th>\n",
       "      <td>573</td>\n",
       "    </tr>\n",
       "  </tbody>\n",
       "</table>\n",
       "</div>"
      ],
      "text/plain": [
       "   Total de Clientes\n",
       "0                573"
      ]
     },
     "execution_count": 3,
     "metadata": {},
     "output_type": "execute_result"
    }
   ],
   "source": [
    "total_clients = purchase_file[\"Login\"].unique().shape[0]\n",
    "print(f'Número total de consumidores: {total_clients}')\n",
    "clients = pd.DataFrame({\"Total de Clientes\" : [total_clients]})\n",
    "clients"
   ]
  },
  {
   "cell_type": "markdown",
   "id": "668f2f09",
   "metadata": {},
   "source": [
    "## Análise de Vendas por Gênero"
   ]
  },
  {
   "cell_type": "code",
   "execution_count": 4,
   "id": "126243d9",
   "metadata": {},
   "outputs": [
    {
     "data": {
      "text/plain": [
       "array(['Masculino', 'Feminino', 'Outro / Não Divulgado'], dtype=object)"
      ]
     },
     "execution_count": 4,
     "metadata": {},
     "output_type": "execute_result"
    }
   ],
   "source": [
    "purchase_file[\"Sexo\"].unique()"
   ]
  },
  {
   "cell_type": "code",
   "execution_count": 5,
   "id": "57bbe1c5",
   "metadata": {},
   "outputs": [],
   "source": [
    "def analise_demografica_v2(df_genero):\n",
    "    \n",
    "    total_clients = purchase_file[\"Login\"].unique().shape[0]    \n",
    "    number_gen = df_genero['Login'].unique().shape[0]\n",
    "    percent_gen = round((number_gen/total_clients)*100,2)\n",
    "    \n",
    "    return(number_gen,percent_gen)"
   ]
  },
  {
   "cell_type": "code",
   "execution_count": 6,
   "id": "dd877af3",
   "metadata": {},
   "outputs": [],
   "source": [
    "def df_by_genre():\n",
    "    male = purchase_file[purchase_file[\"Sexo\"] == \"Masculino\"]\n",
    "    female = purchase_file[purchase_file[\"Sexo\"] == \"Feminino\"]\n",
    "    other = purchase_file[purchase_file[\"Sexo\"] == \"Outro / Não Divulgado\"]\n",
    "    return(male,female,other)"
   ]
  },
  {
   "cell_type": "code",
   "execution_count": 7,
   "id": "459f37b9",
   "metadata": {},
   "outputs": [],
   "source": [
    "male,female,other = df_by_genre()\n",
    "\n",
    "number_male,percent_male = analise_demografica_v2(male)\n",
    "number_female,percent_female = analise_demografica_v2(female)\n",
    "number_other,percent_other = analise_demografica_v2(other)\n",
    "all_number, all_percent = analise_demografica_v2(purchase_file)"
   ]
  },
  {
   "cell_type": "code",
   "execution_count": 8,
   "id": "90c0b852",
   "metadata": {},
   "outputs": [
    {
     "data": {
      "text/html": [
       "<div>\n",
       "<style scoped>\n",
       "    .dataframe tbody tr th:only-of-type {\n",
       "        vertical-align: middle;\n",
       "    }\n",
       "\n",
       "    .dataframe tbody tr th {\n",
       "        vertical-align: top;\n",
       "    }\n",
       "\n",
       "    .dataframe thead th {\n",
       "        text-align: right;\n",
       "    }\n",
       "</style>\n",
       "<table border=\"1\" class=\"dataframe\">\n",
       "  <thead>\n",
       "    <tr style=\"text-align: right;\">\n",
       "      <th></th>\n",
       "      <th>Total Cliente</th>\n",
       "      <th>Total Cliente %</th>\n",
       "    </tr>\n",
       "  </thead>\n",
       "  <tbody>\n",
       "    <tr>\n",
       "      <th>Masculino</th>\n",
       "      <td>465</td>\n",
       "      <td>81.15%</td>\n",
       "    </tr>\n",
       "    <tr>\n",
       "      <th>Feminino</th>\n",
       "      <td>100</td>\n",
       "      <td>17.45%</td>\n",
       "    </tr>\n",
       "    <tr>\n",
       "      <th>Outro / Não Divulgado</th>\n",
       "      <td>8</td>\n",
       "      <td>1.40%</td>\n",
       "    </tr>\n",
       "    <tr>\n",
       "      <th>Total</th>\n",
       "      <td>573</td>\n",
       "      <td>100.00%</td>\n",
       "    </tr>\n",
       "  </tbody>\n",
       "</table>\n",
       "</div>"
      ],
      "text/plain": [
       "                       Total Cliente Total Cliente %\n",
       "Masculino                        465          81.15%\n",
       "Feminino                         100          17.45%\n",
       "Outro / Não Divulgado              8           1.40%\n",
       "Total                            573         100.00%"
      ]
     },
     "execution_count": 8,
     "metadata": {},
     "output_type": "execute_result"
    }
   ],
   "source": [
    "df_shops = pd.DataFrame ({'Total Cliente': [number_male,number_female,number_other,total_clients],\n",
    "                          'Total Cliente %' : [percent_male,percent_female,percent_other,all_percent]}, index=[\"Masculino\",\"Feminino\",\"Outro / Não Divulgado\",\"Total\"])\n",
    "\n",
    "df_shops['Total Cliente %'] = df_shops['Total Cliente %'].map(\"{:.2f}%\".format)\n",
    "df_shops"
   ]
  },
  {
   "cell_type": "code",
   "execution_count": 9,
   "id": "8f6fcf74",
   "metadata": {},
   "outputs": [
    {
     "data": {
      "text/html": [
       "<div>\n",
       "<style scoped>\n",
       "    .dataframe tbody tr th:only-of-type {\n",
       "        vertical-align: middle;\n",
       "    }\n",
       "\n",
       "    .dataframe tbody tr th {\n",
       "        vertical-align: top;\n",
       "    }\n",
       "\n",
       "    .dataframe thead th {\n",
       "        text-align: right;\n",
       "    }\n",
       "</style>\n",
       "<table border=\"1\" class=\"dataframe\">\n",
       "  <thead>\n",
       "    <tr style=\"text-align: right;\">\n",
       "      <th></th>\n",
       "      <th>Total Cliente</th>\n",
       "      <th>Total Cliente %</th>\n",
       "      <th>Quant. Compra</th>\n",
       "      <th>Preço Médio Por Venda</th>\n",
       "      <th>Total de Vendas</th>\n",
       "    </tr>\n",
       "  </thead>\n",
       "  <tbody>\n",
       "    <tr>\n",
       "      <th>Masculino</th>\n",
       "      <td>465</td>\n",
       "      <td>81.15%</td>\n",
       "      <td>633</td>\n",
       "      <td>$ 2.95</td>\n",
       "      <td>$ 1867.68</td>\n",
       "    </tr>\n",
       "    <tr>\n",
       "      <th>Feminino</th>\n",
       "      <td>100</td>\n",
       "      <td>17.45%</td>\n",
       "      <td>136</td>\n",
       "      <td>$ 2.82</td>\n",
       "      <td>$ 382.91</td>\n",
       "    </tr>\n",
       "    <tr>\n",
       "      <th>Outro / Não Divulgado</th>\n",
       "      <td>8</td>\n",
       "      <td>1.40%</td>\n",
       "      <td>11</td>\n",
       "      <td>$ 3.25</td>\n",
       "      <td>$ 35.74</td>\n",
       "    </tr>\n",
       "    <tr>\n",
       "      <th>Total</th>\n",
       "      <td>573</td>\n",
       "      <td>100.00%</td>\n",
       "      <td>780</td>\n",
       "      <td>$ 2.93</td>\n",
       "      <td>$ 2286.33</td>\n",
       "    </tr>\n",
       "  </tbody>\n",
       "</table>\n",
       "</div>"
      ],
      "text/plain": [
       "                       Total Cliente Total Cliente %  Quant. Compra  \\\n",
       "Masculino                        465          81.15%            633   \n",
       "Feminino                         100          17.45%            136   \n",
       "Outro / Não Divulgado              8           1.40%             11   \n",
       "Total                            573         100.00%            780   \n",
       "\n",
       "                      Preço Médio Por Venda Total de Vendas  \n",
       "Masculino                            $ 2.95       $ 1867.68  \n",
       "Feminino                             $ 2.82        $ 382.91  \n",
       "Outro / Não Divulgado                $ 3.25         $ 35.74  \n",
       "Total                                $ 2.93       $ 2286.33  "
      ]
     },
     "execution_count": 9,
     "metadata": {},
     "output_type": "execute_result"
    }
   ],
   "source": [
    "list_of_genres = [male,female,other,purchase_file]\n",
    "df_shops['Quant. Compra'] = [i['Valor'].count() for i in list_of_genres]\n",
    "df_shops['Preço Médio Por Venda'] = [(i['Valor'].mean().round(2)) for i in list_of_genres]\n",
    "df_shops[\"Total de Vendas\"] = [(i['Valor'].sum()) for i in list_of_genres]\n",
    "\n",
    "df_shops[\"Total de Vendas\"] = df_shops[\"Total de Vendas\"].map(\"$ {:.2f}\".format)\n",
    "df_shops['Preço Médio Por Venda'] = df_shops['Preço Médio Por Venda'].map(\"$ {:.2f}\".format)\n",
    "\n",
    "df_shops"
   ]
  },
  {
   "cell_type": "markdown",
   "id": "03aa4dca",
   "metadata": {},
   "source": [
    "## Análise de Vendas Por Idade"
   ]
  },
  {
   "cell_type": "code",
   "execution_count": 10,
   "id": "26e2ad6e",
   "metadata": {},
   "outputs": [],
   "source": [
    "age_bins = [0, 11.99, 15.99, 18.99, 24.99, 30.99, 34.99, 39.99, 999]\n",
    "age_range = [\"Menos de 12\", \"12 a 15\", \"16 a 19\", \"18 a 24\", \"25 a 30\", \"31 a 35\", \"36 a 39\", \"Mais de 40\"]\n",
    "\n",
    "purchase_file[\"Range de Idades\"] = pd.cut(purchase_file[\"Idade\"], age_bins, labels=age_range)"
   ]
  },
  {
   "cell_type": "code",
   "execution_count": 11,
   "id": "3217193f",
   "metadata": {},
   "outputs": [],
   "source": [
    "total_by_range_age = purchase_file.groupby(['Range de Idades'])[['Valor']].sum()\n",
    "total_by_range_age.rename(columns = {'Valor':'Total Venda'}, inplace=True)"
   ]
  },
  {
   "cell_type": "code",
   "execution_count": 12,
   "id": "c7dc3d77",
   "metadata": {},
   "outputs": [
    {
     "data": {
      "text/html": [
       "<div>\n",
       "<style scoped>\n",
       "    .dataframe tbody tr th:only-of-type {\n",
       "        vertical-align: middle;\n",
       "    }\n",
       "\n",
       "    .dataframe tbody tr th {\n",
       "        vertical-align: top;\n",
       "    }\n",
       "\n",
       "    .dataframe thead th {\n",
       "        text-align: right;\n",
       "    }\n",
       "</style>\n",
       "<table border=\"1\" class=\"dataframe\">\n",
       "  <thead>\n",
       "    <tr style=\"text-align: right;\">\n",
       "      <th></th>\n",
       "      <th>Total Venda</th>\n",
       "      <th>Quant. Compra</th>\n",
       "      <th>Preço Médio Venda</th>\n",
       "    </tr>\n",
       "    <tr>\n",
       "      <th>Range de Idades</th>\n",
       "      <th></th>\n",
       "      <th></th>\n",
       "      <th></th>\n",
       "    </tr>\n",
       "  </thead>\n",
       "  <tbody>\n",
       "    <tr>\n",
       "      <th>Menos de 12</th>\n",
       "      <td>$ 123.38</td>\n",
       "      <td>41</td>\n",
       "      <td>$ 3.01</td>\n",
       "    </tr>\n",
       "    <tr>\n",
       "      <th>12 a 15</th>\n",
       "      <td>$ 197.39</td>\n",
       "      <td>69</td>\n",
       "      <td>$ 2.86</td>\n",
       "    </tr>\n",
       "    <tr>\n",
       "      <th>16 a 19</th>\n",
       "      <td>$ 178.96</td>\n",
       "      <td>64</td>\n",
       "      <td>$ 2.80</td>\n",
       "    </tr>\n",
       "    <tr>\n",
       "      <th>18 a 24</th>\n",
       "      <td>$ 1,045.87</td>\n",
       "      <td>358</td>\n",
       "      <td>$ 2.92</td>\n",
       "    </tr>\n",
       "    <tr>\n",
       "      <th>25 a 30</th>\n",
       "      <td>$ 426.34</td>\n",
       "      <td>143</td>\n",
       "      <td>$ 2.98</td>\n",
       "    </tr>\n",
       "    <tr>\n",
       "      <th>31 a 35</th>\n",
       "      <td>$ 141.24</td>\n",
       "      <td>46</td>\n",
       "      <td>$ 3.07</td>\n",
       "    </tr>\n",
       "    <tr>\n",
       "      <th>36 a 39</th>\n",
       "      <td>$ 119.40</td>\n",
       "      <td>42</td>\n",
       "      <td>$ 2.84</td>\n",
       "    </tr>\n",
       "    <tr>\n",
       "      <th>Mais de 40</th>\n",
       "      <td>$ 53.75</td>\n",
       "      <td>17</td>\n",
       "      <td>$ 3.16</td>\n",
       "    </tr>\n",
       "  </tbody>\n",
       "</table>\n",
       "</div>"
      ],
      "text/plain": [
       "                Total Venda  Quant. Compra Preço Médio Venda\n",
       "Range de Idades                                             \n",
       "Menos de 12        $ 123.38             41            $ 3.01\n",
       "12 a 15            $ 197.39             69            $ 2.86\n",
       "16 a 19            $ 178.96             64            $ 2.80\n",
       "18 a 24          $ 1,045.87            358            $ 2.92\n",
       "25 a 30            $ 426.34            143            $ 2.98\n",
       "31 a 35            $ 141.24             46            $ 3.07\n",
       "36 a 39            $ 119.40             42            $ 2.84\n",
       "Mais de 40          $ 53.75             17            $ 3.16"
      ]
     },
     "execution_count": 12,
     "metadata": {},
     "output_type": "execute_result"
    }
   ],
   "source": [
    "total_by_range_age['Quant. Compra'] = purchase_file.groupby(['Range de Idades'])[['Valor']].count()\n",
    "total_by_range_age['Preço Médio Venda'] = purchase_file.groupby(['Range de Idades'])[['Valor']].mean()\n",
    "total_by_range_age['Preço Médio Venda'] = total_by_range_age['Preço Médio Venda'].map(\"$ {:,.2f}\".format)\n",
    "total_by_range_age['Total Venda'] = total_by_range_age['Total Venda'].map(\"$ {:,.2f}\".format)\n",
    "\n",
    "total_by_range_age"
   ]
  },
  {
   "cell_type": "markdown",
   "id": "911a0d6c",
   "metadata": {},
   "source": [
    "## Análise de Vendas por Gênero e Idade"
   ]
  },
  {
   "cell_type": "code",
   "execution_count": 13,
   "id": "c29ddbf6",
   "metadata": {},
   "outputs": [],
   "source": [
    "male,female,other = df_by_genre()\n",
    "list_of_genres = [male,female,other]\n",
    "\n",
    "sum_genre_and_range = [i[i['Range de Idades']==j]['Valor'].sum() for i in list_of_genres for j in age_range ] "
   ]
  },
  {
   "cell_type": "code",
   "execution_count": 14,
   "id": "dd8d9355",
   "metadata": {},
   "outputs": [],
   "source": [
    "df_genre_range = pd.DataFrame({\"Masculino\":sum_genre_and_range[:8],\n",
    "                               \"Feminino\": sum_genre_and_range[8:16],\n",
    "                               \"Outros\": sum_genre_and_range[16:]}, \n",
    "                                index = age_range)\n",
    "\n",
    "df_genre_range.index.names = ['Idade']\n",
    "df_genre_range.columns.names = ['TOTAL VENDA']\n",
    "\n",
    "df_genre_range_plot = df_genre_range.copy()"
   ]
  },
  {
   "cell_type": "code",
   "execution_count": 15,
   "id": "9a735b76",
   "metadata": {},
   "outputs": [],
   "source": [
    "for i in df_genre_range:\n",
    "    df_genre_range[i] = df_genre_range[i].map(\"$ {:,.2f}\".format)"
   ]
  },
  {
   "cell_type": "code",
   "execution_count": 16,
   "id": "926eff86",
   "metadata": {},
   "outputs": [
    {
     "data": {
      "text/html": [
       "<div>\n",
       "<style scoped>\n",
       "    .dataframe tbody tr th:only-of-type {\n",
       "        vertical-align: middle;\n",
       "    }\n",
       "\n",
       "    .dataframe tbody tr th {\n",
       "        vertical-align: top;\n",
       "    }\n",
       "\n",
       "    .dataframe thead th {\n",
       "        text-align: right;\n",
       "    }\n",
       "</style>\n",
       "<table border=\"1\" class=\"dataframe\">\n",
       "  <thead>\n",
       "    <tr style=\"text-align: right;\">\n",
       "      <th>TOTAL VENDA</th>\n",
       "      <th>Masculino</th>\n",
       "      <th>Feminino</th>\n",
       "      <th>Outros</th>\n",
       "    </tr>\n",
       "    <tr>\n",
       "      <th>Idade</th>\n",
       "      <th></th>\n",
       "      <th></th>\n",
       "      <th></th>\n",
       "    </tr>\n",
       "  </thead>\n",
       "  <tbody>\n",
       "    <tr>\n",
       "      <th>Menos de 12</th>\n",
       "      <td>$ 92.46</td>\n",
       "      <td>$ 30.92</td>\n",
       "      <td>$ 0.00</td>\n",
       "    </tr>\n",
       "    <tr>\n",
       "      <th>12 a 15</th>\n",
       "      <td>$ 171.42</td>\n",
       "      <td>$ 21.97</td>\n",
       "      <td>$ 4.00</td>\n",
       "    </tr>\n",
       "    <tr>\n",
       "      <th>16 a 19</th>\n",
       "      <td>$ 129.74</td>\n",
       "      <td>$ 49.22</td>\n",
       "      <td>$ 0.00</td>\n",
       "    </tr>\n",
       "    <tr>\n",
       "      <th>18 a 24</th>\n",
       "      <td>$ 897.24</td>\n",
       "      <td>$ 142.02</td>\n",
       "      <td>$ 6.61</td>\n",
       "    </tr>\n",
       "    <tr>\n",
       "      <th>25 a 30</th>\n",
       "      <td>$ 331.57</td>\n",
       "      <td>$ 83.21</td>\n",
       "      <td>$ 11.56</td>\n",
       "    </tr>\n",
       "    <tr>\n",
       "      <th>31 a 35</th>\n",
       "      <td>$ 111.53</td>\n",
       "      <td>$ 16.14</td>\n",
       "      <td>$ 13.57</td>\n",
       "    </tr>\n",
       "    <tr>\n",
       "      <th>36 a 39</th>\n",
       "      <td>$ 87.88</td>\n",
       "      <td>$ 31.52</td>\n",
       "      <td>$ 0.00</td>\n",
       "    </tr>\n",
       "    <tr>\n",
       "      <th>Mais de 40</th>\n",
       "      <td>$ 45.84</td>\n",
       "      <td>$ 7.91</td>\n",
       "      <td>$ 0.00</td>\n",
       "    </tr>\n",
       "  </tbody>\n",
       "</table>\n",
       "</div>"
      ],
      "text/plain": [
       "TOTAL VENDA Masculino  Feminino   Outros\n",
       "Idade                                   \n",
       "Menos de 12   $ 92.46   $ 30.92   $ 0.00\n",
       "12 a 15      $ 171.42   $ 21.97   $ 4.00\n",
       "16 a 19      $ 129.74   $ 49.22   $ 0.00\n",
       "18 a 24      $ 897.24  $ 142.02   $ 6.61\n",
       "25 a 30      $ 331.57   $ 83.21  $ 11.56\n",
       "31 a 35      $ 111.53   $ 16.14  $ 13.57\n",
       "36 a 39       $ 87.88   $ 31.52   $ 0.00\n",
       "Mais de 40    $ 45.84    $ 7.91   $ 0.00"
      ]
     },
     "execution_count": 16,
     "metadata": {},
     "output_type": "execute_result"
    }
   ],
   "source": [
    "df_genre_range"
   ]
  },
  {
   "cell_type": "code",
   "execution_count": 17,
   "id": "794ea172",
   "metadata": {},
   "outputs": [
    {
     "data": {
      "image/png": "[encoded data removed]",
      "text/plain": [
       "<Figure size 1080x360 with 1 Axes>"
      ]
     },
     "metadata": {},
     "output_type": "display_data"
    }
   ],
   "source": [
    "sns.set(rc={'figure.figsize':(15,5)})\n",
    "fig = sns.lineplot(data=df_genre_range_plot, palette=\"Dark2\", linewidth=2.5)\n",
    "fig = fig.set(title = \"Total de Vendas por Range de Idade e Gênero\")"
   ]
  },
  {
   "cell_type": "markdown",
   "id": "ec75eb92",
   "metadata": {},
   "source": [
    "## Consumidores Mais Populares (Top 5)"
   ]
  },
  {
   "cell_type": "code",
   "execution_count": 18,
   "id": "eb977c1e",
   "metadata": {},
   "outputs": [],
   "source": [
    "list_of_client = list(purchase_file.groupby([\"Login\"]).sum()['Valor'].sort_values(ascending=False).keys())\n",
    "\n",
    "sum_value_client = [purchase_file[purchase_file['Login']==i]['Valor'].sum() for i in list_of_client] \n",
    "mean_value_client = [purchase_file[purchase_file['Login']==i]['Valor'].mean() for i in list_of_client] \n",
    "count_client = [purchase_file[purchase_file['Login']==i]['Valor'].count() for i in list_of_client] "
   ]
  },
  {
   "cell_type": "code",
   "execution_count": 19,
   "id": "2b14fdab",
   "metadata": {},
   "outputs": [],
   "source": [
    "popular_clients = pd.DataFrame({\"Total de Vendas\":sum_value_client,\n",
    "                                \"Preço Médio de Venda\": mean_value_client,\n",
    "                                \"Contagem\":count_client},\n",
    "                                index=[[x for x in list_of_client]])\n",
    "\n",
    "popular_clients[\"Preço Médio de Venda\"] = popular_clients[\"Preço Médio de Venda\"].map(\"$ {:,.2f}\".format)\n",
    "popular_clients[\"Total de Vendas\"] = popular_clients[\"Total de Vendas\"].map(\"$ {:,.2f}\".format)\n"
   ]
  },
  {
   "cell_type": "code",
   "execution_count": 20,
   "id": "f18984f9",
   "metadata": {},
   "outputs": [
    {
     "data": {
      "text/html": [
       "<div>\n",
       "<style scoped>\n",
       "    .dataframe tbody tr th:only-of-type {\n",
       "        vertical-align: middle;\n",
       "    }\n",
       "\n",
       "    .dataframe tbody tr th {\n",
       "        vertical-align: top;\n",
       "    }\n",
       "\n",
       "    .dataframe thead th {\n",
       "        text-align: right;\n",
       "    }\n",
       "</style>\n",
       "<table border=\"1\" class=\"dataframe\">\n",
       "  <thead>\n",
       "    <tr style=\"text-align: right;\">\n",
       "      <th></th>\n",
       "      <th>Total de Vendas</th>\n",
       "      <th>Preço Médio de Venda</th>\n",
       "      <th>Contagem</th>\n",
       "    </tr>\n",
       "  </thead>\n",
       "  <tbody>\n",
       "    <tr>\n",
       "      <th>Undirrala66</th>\n",
       "      <td>$ 17.06</td>\n",
       "      <td>$ 3.41</td>\n",
       "      <td>5</td>\n",
       "    </tr>\n",
       "    <tr>\n",
       "      <th>Saedue76</th>\n",
       "      <td>$ 13.56</td>\n",
       "      <td>$ 3.39</td>\n",
       "      <td>4</td>\n",
       "    </tr>\n",
       "    <tr>\n",
       "      <th>Mindimnya67</th>\n",
       "      <td>$ 12.74</td>\n",
       "      <td>$ 3.18</td>\n",
       "      <td>4</td>\n",
       "    </tr>\n",
       "    <tr>\n",
       "      <th>Haellysu29</th>\n",
       "      <td>$ 12.73</td>\n",
       "      <td>$ 4.24</td>\n",
       "      <td>3</td>\n",
       "    </tr>\n",
       "    <tr>\n",
       "      <th>Eoda93</th>\n",
       "      <td>$ 11.58</td>\n",
       "      <td>$ 3.86</td>\n",
       "      <td>3</td>\n",
       "    </tr>\n",
       "  </tbody>\n",
       "</table>\n",
       "</div>"
      ],
      "text/plain": [
       "            Total de Vendas Preço Médio de Venda  Contagem\n",
       "Undirrala66         $ 17.06               $ 3.41         5\n",
       "Saedue76            $ 13.56               $ 3.39         4\n",
       "Mindimnya67         $ 12.74               $ 3.18         4\n",
       "Haellysu29          $ 12.73               $ 4.24         3\n",
       "Eoda93              $ 11.58               $ 3.86         3"
      ]
     },
     "execution_count": 20,
     "metadata": {},
     "output_type": "execute_result"
    }
   ],
   "source": [
    "popular_clients.head(5)"
   ]
  },
  {
   "cell_type": "markdown",
   "id": "9f829af7",
   "metadata": {},
   "source": [
    "## Itens Mais Populares (Top 5)"
   ]
  },
  {
   "cell_type": "code",
   "execution_count": 21,
   "id": "e7d252cc",
   "metadata": {},
   "outputs": [],
   "source": [
    "list_of_item = list(purchase_file.groupby(\"Item ID\")['Item ID'].count().sort_values(ascending=False).keys())\n",
    "\n",
    "sum_value_item = [purchase_file[purchase_file['Item ID']==i]['Valor'].sum() for i in list_of_item] \n",
    "price_item = [purchase_file[purchase_file['Item ID']==i]['Valor'].unique()[0] for i in list_of_item] \n",
    "count_item = [purchase_file[purchase_file['Item ID']==i]['Valor'].count() for i in list_of_item] "
   ]
  },
  {
   "cell_type": "code",
   "execution_count": 22,
   "id": "c4ec32c4",
   "metadata": {},
   "outputs": [],
   "source": [
    "popular_itens = pd.DataFrame({ \"ID Item\":list_of_item,\n",
    "                               \"Quant. Venda\":count_item,\n",
    "                               \"Valor Unitário\": price_item ,\n",
    "                               \"Total de Vendas\":sum_value_item,},\n",
    "                                index=[purchase_file[purchase_file['Item ID']==x][\"Nome do Item\"].unique()[0] for x in list_of_item])\n",
    "\n",
    "popular_itens[\"Valor Unitário\"] = popular_itens[\"Valor Unitário\"].map(\"$ {:,.2f}\".format)\n",
    "popular_itens[\"Total de Vendas\"] = popular_itens[\"Total de Vendas\"].map(\"$ {:,.2f}\".format)"
   ]
  },
  {
   "cell_type": "code",
   "execution_count": 23,
   "id": "f5c73639",
   "metadata": {},
   "outputs": [
    {
     "data": {
      "text/html": [
       "<div>\n",
       "<style scoped>\n",
       "    .dataframe tbody tr th:only-of-type {\n",
       "        vertical-align: middle;\n",
       "    }\n",
       "\n",
       "    .dataframe tbody tr th {\n",
       "        vertical-align: top;\n",
       "    }\n",
       "\n",
       "    .dataframe thead th {\n",
       "        text-align: right;\n",
       "    }\n",
       "</style>\n",
       "<table border=\"1\" class=\"dataframe\">\n",
       "  <thead>\n",
       "    <tr style=\"text-align: right;\">\n",
       "      <th></th>\n",
       "      <th>ID Item</th>\n",
       "      <th>Quant. Venda</th>\n",
       "      <th>Valor Unitário</th>\n",
       "      <th>Total de Vendas</th>\n",
       "    </tr>\n",
       "  </thead>\n",
       "  <tbody>\n",
       "    <tr>\n",
       "      <th>Betrayal, Whisper of Grieving Widows</th>\n",
       "      <td>39</td>\n",
       "      <td>11</td>\n",
       "      <td>$ 2.35</td>\n",
       "      <td>$ 25.85</td>\n",
       "    </tr>\n",
       "    <tr>\n",
       "      <th>Arcane Gem</th>\n",
       "      <td>84</td>\n",
       "      <td>11</td>\n",
       "      <td>$ 2.23</td>\n",
       "      <td>$ 24.53</td>\n",
       "    </tr>\n",
       "    <tr>\n",
       "      <th>Trickster</th>\n",
       "      <td>31</td>\n",
       "      <td>9</td>\n",
       "      <td>$ 2.07</td>\n",
       "      <td>$ 18.63</td>\n",
       "    </tr>\n",
       "    <tr>\n",
       "      <th>Woeful Adamantite Claymore</th>\n",
       "      <td>175</td>\n",
       "      <td>9</td>\n",
       "      <td>$ 1.24</td>\n",
       "      <td>$ 11.16</td>\n",
       "    </tr>\n",
       "    <tr>\n",
       "      <th>Serenity</th>\n",
       "      <td>13</td>\n",
       "      <td>9</td>\n",
       "      <td>$ 1.49</td>\n",
       "      <td>$ 13.41</td>\n",
       "    </tr>\n",
       "  </tbody>\n",
       "</table>\n",
       "</div>"
      ],
      "text/plain": [
       "                                      ID Item  Quant. Venda Valor Unitário  \\\n",
       "Betrayal, Whisper of Grieving Widows       39            11         $ 2.35   \n",
       "Arcane Gem                                 84            11         $ 2.23   \n",
       "Trickster                                  31             9         $ 2.07   \n",
       "Woeful Adamantite Claymore                175             9         $ 1.24   \n",
       "Serenity                                   13             9         $ 1.49   \n",
       "\n",
       "                                     Total de Vendas  \n",
       "Betrayal, Whisper of Grieving Widows         $ 25.85  \n",
       "Arcane Gem                                   $ 24.53  \n",
       "Trickster                                    $ 18.63  \n",
       "Woeful Adamantite Claymore                   $ 11.16  \n",
       "Serenity                                     $ 13.41  "
      ]
     },
     "execution_count": 23,
     "metadata": {},
     "output_type": "execute_result"
    }
   ],
   "source": [
    "popular_itens.head(5)"
   ]
  },
  {
   "cell_type": "markdown",
   "id": "b76cd3c9",
   "metadata": {},
   "source": [
    "## Itens Mais Lucrativos"
   ]
  },
  {
   "cell_type": "code",
   "execution_count": 24,
   "id": "e084c443",
   "metadata": {},
   "outputs": [],
   "source": [
    "list_profit_item = list(purchase_file.groupby(\"Item ID\")['Valor'].sum().sort_values(ascending=False).keys())\n",
    "\n",
    "sum_value_item = [purchase_file[purchase_file['Item ID']==i]['Valor'].sum() for i in list_profit_item] \n",
    "price_item = [purchase_file[purchase_file['Item ID']==i]['Valor'].unique()[0] for i in list_profit_item] \n",
    "count_item = [purchase_file[purchase_file['Item ID']==i]['Valor'].count() for i in list_profit_item] "
   ]
  },
  {
   "cell_type": "code",
   "execution_count": 25,
   "id": "31b0137d",
   "metadata": {},
   "outputs": [],
   "source": [
    "profit_item = pd.DataFrame({ \"ID Item\":list_of_item,\n",
    "                             \"Quant. Venda\":count_item,\n",
    "                              \"Valor Unitário\": price_item ,\n",
    "                              \"Total de Vendas\":sum_value_item, },\n",
    "                              index=[purchase_file[purchase_file['Item ID']==x][\"Nome do Item\"].unique()[0] for x in list_profit_item])\n",
    "\n",
    "profit_item[\"Valor Unitário\"] = profit_item[\"Valor Unitário\"].map(\"$ {:,.2f}\".format)\n",
    "profit_item[\"Total de Vendas\"] = profit_item[\"Total de Vendas\"].map(\"$ {:,.2f}\".format)"
   ]
  },
  {
   "cell_type": "code",
   "execution_count": 26,
   "id": "be743844",
   "metadata": {},
   "outputs": [
    {
     "data": {
      "text/html": [
       "<div>\n",
       "<style scoped>\n",
       "    .dataframe tbody tr th:only-of-type {\n",
       "        vertical-align: middle;\n",
       "    }\n",
       "\n",
       "    .dataframe tbody tr th {\n",
       "        vertical-align: top;\n",
       "    }\n",
       "\n",
       "    .dataframe thead th {\n",
       "        text-align: right;\n",
       "    }\n",
       "</style>\n",
       "<table border=\"1\" class=\"dataframe\">\n",
       "  <thead>\n",
       "    <tr style=\"text-align: right;\">\n",
       "      <th></th>\n",
       "      <th>ID Item</th>\n",
       "      <th>Quant. Venda</th>\n",
       "      <th>Valor Unitário</th>\n",
       "      <th>Total de Vendas</th>\n",
       "    </tr>\n",
       "  </thead>\n",
       "  <tbody>\n",
       "    <tr>\n",
       "      <th>Retribution Axe</th>\n",
       "      <td>39</td>\n",
       "      <td>9</td>\n",
       "      <td>$ 4.14</td>\n",
       "      <td>$ 37.26</td>\n",
       "    </tr>\n",
       "    <tr>\n",
       "      <th>Spectral Diamond Doomblade</th>\n",
       "      <td>84</td>\n",
       "      <td>7</td>\n",
       "      <td>$ 4.25</td>\n",
       "      <td>$ 29.75</td>\n",
       "    </tr>\n",
       "    <tr>\n",
       "      <th>Orenmir</th>\n",
       "      <td>31</td>\n",
       "      <td>6</td>\n",
       "      <td>$ 4.95</td>\n",
       "      <td>$ 29.70</td>\n",
       "    </tr>\n",
       "    <tr>\n",
       "      <th>Singed Scalpel</th>\n",
       "      <td>175</td>\n",
       "      <td>6</td>\n",
       "      <td>$ 4.87</td>\n",
       "      <td>$ 29.22</td>\n",
       "    </tr>\n",
       "    <tr>\n",
       "      <th>Splitter, Foe Of Subtlety</th>\n",
       "      <td>13</td>\n",
       "      <td>8</td>\n",
       "      <td>$ 3.61</td>\n",
       "      <td>$ 28.88</td>\n",
       "    </tr>\n",
       "  </tbody>\n",
       "</table>\n",
       "</div>"
      ],
      "text/plain": [
       "                            ID Item  Quant. Venda Valor Unitário  \\\n",
       "Retribution Axe                  39             9         $ 4.14   \n",
       "Spectral Diamond Doomblade       84             7         $ 4.25   \n",
       "Orenmir                          31             6         $ 4.95   \n",
       "Singed Scalpel                  175             6         $ 4.87   \n",
       "Splitter, Foe Of Subtlety        13             8         $ 3.61   \n",
       "\n",
       "                           Total de Vendas  \n",
       "Retribution Axe                    $ 37.26  \n",
       "Spectral Diamond Doomblade         $ 29.75  \n",
       "Orenmir                            $ 29.70  \n",
       "Singed Scalpel                     $ 29.22  \n",
       "Splitter, Foe Of Subtlety          $ 28.88  "
      ]
     },
     "execution_count": 26,
     "metadata": {},
     "output_type": "execute_result"
    }
   ],
   "source": [
    "profit_item.head(5)"
   ]
  }
 ],
 "metadata": {
  "kernelspec": {
   "display_name": "Python 3 (ipykernel)",
   "language": "python",
   "name": "python3"
  },
  "language_info": {
   "codemirror_mode": {
    "name": "ipython",
    "version": 3
   },
   "file_extension": ".py",
   "mimetype": "text/x-python",
   "name": "python",
   "nbconvert_exporter": "python",
   "pygments_lexer": "ipython3",
   "version": "3.8.10"
  }
 },
 "nbformat": 4,
 "nbformat_minor": 5
}
